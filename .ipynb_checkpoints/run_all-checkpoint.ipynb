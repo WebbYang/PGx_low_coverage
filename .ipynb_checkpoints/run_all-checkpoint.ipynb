{
 "cells": [
  {
   "cell_type": "code",
   "execution_count": 1,
   "metadata": {},
   "outputs": [
    {
     "name": "stdout",
     "output_type": "stream",
     "text": [
      "Populating the interactive namespace from numpy and matplotlib\n"
     ]
    },
    {
     "data": {
      "text/html": [
       "<div>\n",
       "<style scoped>\n",
       "    .dataframe tbody tr th:only-of-type {\n",
       "        vertical-align: middle;\n",
       "    }\n",
       "\n",
       "    .dataframe tbody tr th {\n",
       "        vertical-align: top;\n",
       "    }\n",
       "\n",
       "    .dataframe thead th {\n",
       "        text-align: right;\n",
       "    }\n",
       "</style>\n",
       "<table border=\"1\" class=\"dataframe\">\n",
       "  <thead>\n",
       "    <tr style=\"text-align: right;\">\n",
       "      <th></th>\n",
       "      <th>chrX_mean_depth</th>\n",
       "      <th>pred_gender</th>\n",
       "      <th>gender</th>\n",
       "      <th>consistent</th>\n",
       "    </tr>\n",
       "  </thead>\n",
       "  <tbody>\n",
       "    <tr>\n",
       "      <td>MMI001</td>\n",
       "      <td>19.322773</td>\n",
       "      <td>M</td>\n",
       "      <td>M</td>\n",
       "      <td>True</td>\n",
       "    </tr>\n",
       "    <tr>\n",
       "      <td>MMI002</td>\n",
       "      <td>37.040048</td>\n",
       "      <td>F</td>\n",
       "      <td>F</td>\n",
       "      <td>True</td>\n",
       "    </tr>\n",
       "    <tr>\n",
       "      <td>MMI003</td>\n",
       "      <td>23.854752</td>\n",
       "      <td>M</td>\n",
       "      <td>M</td>\n",
       "      <td>True</td>\n",
       "    </tr>\n",
       "    <tr>\n",
       "      <td>MMI004</td>\n",
       "      <td>46.977884</td>\n",
       "      <td>F</td>\n",
       "      <td>F</td>\n",
       "      <td>True</td>\n",
       "    </tr>\n",
       "    <tr>\n",
       "      <td>MMI005</td>\n",
       "      <td>30.219566</td>\n",
       "      <td>F</td>\n",
       "      <td>F</td>\n",
       "      <td>True</td>\n",
       "    </tr>\n",
       "  </tbody>\n",
       "</table>\n",
       "</div>"
      ],
      "text/plain": [
       "        chrX_mean_depth pred_gender gender  consistent\n",
       "MMI001        19.322773           M      M        True\n",
       "MMI002        37.040048           F      F        True\n",
       "MMI003        23.854752           M      M        True\n",
       "MMI004        46.977884           F      F        True\n",
       "MMI005        30.219566           F      F        True"
      ]
     },
     "execution_count": 1,
     "metadata": {},
     "output_type": "execute_result"
    }
   ],
   "source": [
    "import pandas as pd\n",
    "%pylab inline\n",
    "\n",
    "df = pd.read_csv('data/MMI_gender_prediction.csv', index_col = 0)\n",
    "df.head()\n"
   ]
  },
  {
   "cell_type": "code",
   "execution_count": 2,
   "metadata": {},
   "outputs": [
    {
     "name": "stdout",
     "output_type": "stream",
     "text": [
      "UnicodeDecodeError: 'utf-8' codec can't decode byte 0x8b in position 1: invalid start byte\n"
     ]
    },
    {
     "ename": "ValueError",
     "evalue": "invalid literal for int() with base 10: 'UnicodeDecodeError:'",
     "output_type": "error",
     "traceback": [
      "\u001b[0;31m---------------------------------------------------------------------------\u001b[0m",
      "\u001b[0;31mValueError\u001b[0m                                Traceback (most recent call last)",
      "\u001b[0;32m<ipython-input-2-d292b4d33605>\u001b[0m in \u001b[0;36m<module>\u001b[0;34m()\u001b[0m\n\u001b[1;32m      5\u001b[0m     \u001b[0mres\u001b[0m \u001b[0;34m=\u001b[0m \u001b[0mget_ipython\u001b[0m\u001b[0;34m(\u001b[0m\u001b[0;34m)\u001b[0m\u001b[0;34m.\u001b[0m\u001b[0mgetoutput\u001b[0m\u001b[0;34m(\u001b[0m\u001b[0;34m'python3 low_coverage_analysis.py --id {subject} --out out/{subject} --sex {sex}'\u001b[0m\u001b[0;34m)\u001b[0m\u001b[0;34m\u001b[0m\u001b[0;34m\u001b[0m\u001b[0m\n\u001b[1;32m      6\u001b[0m     \u001b[0mprint\u001b[0m\u001b[0;34m(\u001b[0m\u001b[0mres\u001b[0m\u001b[0;34m[\u001b[0m\u001b[0;34m-\u001b[0m\u001b[0;36m1\u001b[0m\u001b[0;34m]\u001b[0m\u001b[0;34m)\u001b[0m\u001b[0;34m\u001b[0m\u001b[0;34m\u001b[0m\u001b[0m\n\u001b[0;32m----> 7\u001b[0;31m     \u001b[0mdata_map\u001b[0m\u001b[0;34m[\u001b[0m\u001b[0msubject\u001b[0m\u001b[0;34m]\u001b[0m \u001b[0;34m=\u001b[0m \u001b[0;34m[\u001b[0m\u001b[0mint\u001b[0m\u001b[0;34m(\u001b[0m\u001b[0mitem\u001b[0m\u001b[0;34m)\u001b[0m \u001b[0;32mfor\u001b[0m \u001b[0mitem\u001b[0m \u001b[0;32min\u001b[0m \u001b[0mres\u001b[0m\u001b[0;34m[\u001b[0m\u001b[0;34m-\u001b[0m\u001b[0;36m1\u001b[0m\u001b[0;34m]\u001b[0m\u001b[0;34m.\u001b[0m\u001b[0msplit\u001b[0m\u001b[0;34m(\u001b[0m\u001b[0;34m)\u001b[0m\u001b[0;34m]\u001b[0m\u001b[0;34m\u001b[0m\u001b[0;34m\u001b[0m\u001b[0m\n\u001b[0m",
      "\u001b[0;32m<ipython-input-2-d292b4d33605>\u001b[0m in \u001b[0;36m<listcomp>\u001b[0;34m(.0)\u001b[0m\n\u001b[1;32m      5\u001b[0m     \u001b[0mres\u001b[0m \u001b[0;34m=\u001b[0m \u001b[0mget_ipython\u001b[0m\u001b[0;34m(\u001b[0m\u001b[0;34m)\u001b[0m\u001b[0;34m.\u001b[0m\u001b[0mgetoutput\u001b[0m\u001b[0;34m(\u001b[0m\u001b[0;34m'python3 low_coverage_analysis.py --id {subject} --out out/{subject} --sex {sex}'\u001b[0m\u001b[0;34m)\u001b[0m\u001b[0;34m\u001b[0m\u001b[0;34m\u001b[0m\u001b[0m\n\u001b[1;32m      6\u001b[0m     \u001b[0mprint\u001b[0m\u001b[0;34m(\u001b[0m\u001b[0mres\u001b[0m\u001b[0;34m[\u001b[0m\u001b[0;34m-\u001b[0m\u001b[0;36m1\u001b[0m\u001b[0;34m]\u001b[0m\u001b[0;34m)\u001b[0m\u001b[0;34m\u001b[0m\u001b[0;34m\u001b[0m\u001b[0m\n\u001b[0;32m----> 7\u001b[0;31m     \u001b[0mdata_map\u001b[0m\u001b[0;34m[\u001b[0m\u001b[0msubject\u001b[0m\u001b[0;34m]\u001b[0m \u001b[0;34m=\u001b[0m \u001b[0;34m[\u001b[0m\u001b[0mint\u001b[0m\u001b[0;34m(\u001b[0m\u001b[0mitem\u001b[0m\u001b[0;34m)\u001b[0m \u001b[0;32mfor\u001b[0m \u001b[0mitem\u001b[0m \u001b[0;32min\u001b[0m \u001b[0mres\u001b[0m\u001b[0;34m[\u001b[0m\u001b[0;34m-\u001b[0m\u001b[0;36m1\u001b[0m\u001b[0;34m]\u001b[0m\u001b[0;34m.\u001b[0m\u001b[0msplit\u001b[0m\u001b[0;34m(\u001b[0m\u001b[0;34m)\u001b[0m\u001b[0;34m]\u001b[0m\u001b[0;34m\u001b[0m\u001b[0;34m\u001b[0m\u001b[0m\n\u001b[0m",
      "\u001b[0;31mValueError\u001b[0m: invalid literal for int() with base 10: 'UnicodeDecodeError:'"
     ]
    }
   ],
   "source": [
    "data_map = {}\n",
    "\n",
    "for subject in df.index:\n",
    "    sex = df.loc[subject, 'gender']\n",
    "    res = ! python3 low_coverage_analysis.py --id {subject} --out out/{subject} --sex {sex}\n",
    "    print(res[-1])\n",
    "    data_map[subject] = [int(item) for item in res[-1].split()]"
   ]
  },
  {
   "cell_type": "code",
   "execution_count": 2,
   "metadata": {},
   "outputs": [
    {
     "name": "stdout",
     "output_type": "stream",
     "text": [
      "0 0 0\n",
      "0 2 1\n",
      "0 0 0\n",
      "0 2 1\n",
      "1 2 2\n",
      "1 2 2\n",
      "1 2 2\n",
      "0 2 2\n",
      "0 2 2\n",
      "0 0 0\n",
      "0 2 2\n",
      "0 2 2\n",
      "0 2 2\n",
      "0 2 1\n",
      "0 0 0\n",
      "0 2 2\n",
      "0 2 1\n",
      "0 0 0\n",
      "0 2 1\n",
      "0 2 1\n",
      "0 2 1\n",
      "0 2 1\n",
      "0 2 2\n",
      "0 3 2\n",
      "0 2 2\n",
      "0 2 2\n",
      "1 2 2\n",
      "0 2 1\n",
      "0 2 1\n",
      "0 2 1\n",
      "1 2 2\n",
      "0 2 2\n",
      "0 2 1\n",
      "0 2 1\n",
      "0 2 1\n",
      "0 2 2\n",
      "0 0 0\n",
      "0 0 0\n",
      "0 0 0\n",
      "0 0 0\n",
      "0 0 0\n",
      "0 0 0\n",
      "0 0 0\n",
      "0 0 0\n",
      "1 2 2\n",
      "1 6 1\n",
      "1 3 2\n",
      "2 5 1\n"
     ]
    }
   ],
   "source": [
    "data_map = {}\n",
    "\n",
    "for subject in df.index:\n",
    "    sex = df.loc[subject, 'gender']\n",
    "    res = ! python3 low_coverage_analysis.py --id {subject} --out out/{subject} --sex {sex}\n",
    "    print(res[-1])\n",
    "    data_map[subject] = [int(item) for item in res[-1].split()]\n",
    "    "
   ]
  },
  {
   "cell_type": "code",
   "execution_count": 3,
   "metadata": {},
   "outputs": [
    {
     "data": {
      "text/html": [
       "<div>\n",
       "<style scoped>\n",
       "    .dataframe tbody tr th:only-of-type {\n",
       "        vertical-align: middle;\n",
       "    }\n",
       "\n",
       "    .dataframe tbody tr th {\n",
       "        vertical-align: top;\n",
       "    }\n",
       "\n",
       "    .dataframe thead th {\n",
       "        text-align: right;\n",
       "    }\n",
       "</style>\n",
       "<table border=\"1\" class=\"dataframe\">\n",
       "  <thead>\n",
       "    <tr style=\"text-align: right;\">\n",
       "      <th></th>\n",
       "      <th>mean depth</th>\n",
       "      <th>length</th>\n",
       "      <th>gender</th>\n",
       "    </tr>\n",
       "  </thead>\n",
       "  <tbody>\n",
       "    <tr>\n",
       "      <td>wes001</td>\n",
       "      <td>41.197802</td>\n",
       "      <td>91</td>\n",
       "      <td>M</td>\n",
       "    </tr>\n",
       "    <tr>\n",
       "      <td>wes002</td>\n",
       "      <td>72.318681</td>\n",
       "      <td>91</td>\n",
       "      <td>F</td>\n",
       "    </tr>\n",
       "    <tr>\n",
       "      <td>wes003</td>\n",
       "      <td>43.824176</td>\n",
       "      <td>91</td>\n",
       "      <td>F</td>\n",
       "    </tr>\n",
       "    <tr>\n",
       "      <td>wes004</td>\n",
       "      <td>132.021978</td>\n",
       "      <td>91</td>\n",
       "      <td>F</td>\n",
       "    </tr>\n",
       "    <tr>\n",
       "      <td>wes005</td>\n",
       "      <td>24.472527</td>\n",
       "      <td>91</td>\n",
       "      <td>M</td>\n",
       "    </tr>\n",
       "  </tbody>\n",
       "</table>\n",
       "</div>"
      ],
      "text/plain": [
       "        mean depth  length gender\n",
       "wes001   41.197802      91      M\n",
       "wes002   72.318681      91      F\n",
       "wes003   43.824176      91      F\n",
       "wes004  132.021978      91      F\n",
       "wes005   24.472527      91      M"
      ]
     },
     "execution_count": 3,
     "metadata": {},
     "output_type": "execute_result"
    }
   ],
   "source": [
    "df = pd.read_csv('data/WES_gender_prediction.csv', index_col = 0)\n",
    "df.head()"
   ]
  },
  {
   "cell_type": "code",
   "execution_count": 4,
   "metadata": {},
   "outputs": [],
   "source": [
    "from glob import glob\n",
    "vcf_del = glob('/home/dna/webb/low_coverage_test/whole_exon_out/*/vcf_scan/report_vcf_del.txt')"
   ]
  },
  {
   "cell_type": "code",
   "execution_count": 5,
   "metadata": {},
   "outputs": [
    {
     "name": "stdout",
     "output_type": "stream",
     "text": [
      "1 7 2\n",
      "1 7 2\n",
      "1 7 2\n",
      "0 6 2\n",
      "1 7 2\n",
      "1 8 2\n",
      "1 10 2\n",
      "2 8 2\n",
      "1 8 2\n",
      "2 9 2\n",
      "1 9 2\n"
     ]
    }
   ],
   "source": [
    "for vd, subject in zip(vcf_del, df.index):\n",
    "    sex = df.loc[subject, 'gender']\n",
    "    res = ! python3 low_coverage_analysis.py --id {subject} --out out/{subject} --sex {sex} --vd {vd}\n",
    "    print(res[-1])\n",
    "    data_map[subject] = [int(item) for item in res[-1].split()]"
   ]
  },
  {
   "cell_type": "code",
   "execution_count": 6,
   "metadata": {},
   "outputs": [],
   "source": [
    "new_keys = [f'MMI{i:03}' for i in range(1,49) if i not in [5,45,46,47,48]]\n",
    "new_keys += [f'MMI{i:03}' for i in [5,45,46,47,48]]\n",
    "new_keys.remove('MMI007')\n",
    "new_keys.remove('MMI036')\n",
    "new_keys += [f'wes{i:03}' for i in range(1,12)]"
   ]
  },
  {
   "cell_type": "code",
   "execution_count": 7,
   "metadata": {},
   "outputs": [
    {
     "data": {
      "text/plain": [
       "['wes07', 'wes08', 'wes09', 'wes10', 'wes11']"
      ]
     },
     "execution_count": 7,
     "metadata": {},
     "output_type": "execute_result"
    }
   ],
   "source": [
    "draft_keys = [f'wgs40x{i:02}' for i in range(1,42)] + [f'wgs30x{i:02}' for i in range(1,6)] + [f'wes{i:02}' for i in range(1,12)]\n",
    "draft_keys[-5:]"
   ]
  },
  {
   "cell_type": "code",
   "execution_count": 12,
   "metadata": {},
   "outputs": [
    {
     "data": {
      "image/png": "[encoded data removed]",
      "text/plain": [
       "<Figure size 864x288 with 1 Axes>"
      ]
     },
     "metadata": {
      "needs_background": "light"
     },
     "output_type": "display_data"
    }
   ],
   "source": [
    "single_cnts1 = [data_map[k][0] for k in new_keys]\n",
    "del_cnts1 = np.array([data_map[k][1] for k in new_keys])\n",
    "other_cnts1 = np.array([data_map[k][2] for k in new_keys])\n",
    "\n",
    "plt.figure(figsize(12,4))\n",
    "plt.title('PGx Low-Coverage Region P/LP count')\n",
    "plt.bar(draft_keys, single_cnts1, label='SNP')\n",
    "plt.bar(draft_keys, del_cnts1, bottom=single_cnts1, label='Deletion')\n",
    "plt.bar(draft_keys, other_cnts1, bottom=single_cnts1+del_cnts1, label='Other')\n",
    "plt.vlines(40.5,0,15,'r',linestyles='dashed')\n",
    "plt.vlines(45.5,0,15,'r',linestyles='dashed')\n",
    "plt.xticks(rotation=90)\n",
    "plt.ylabel('P/LP counts')\n",
    "plt.legend()\n",
    "plt.grid()\n",
    "plt.savefig('PGx.png', dpi=300, bbox_inches='tight')\n",
    "plt.show()"
   ]
  },
  {
   "cell_type": "code",
   "execution_count": 15,
   "metadata": {},
   "outputs": [],
   "source": [
    "def count_exon(annotate_exon_file):\n",
    "    internal_cnt, external_cnt = 0, 0\n",
    "    with open(annotate_exon_file, 'r') as rh:\n",
    "        for line in rh:\n",
    "            tail = line.split('\\t')[-1]\n",
    "            if 'internal' in tail:\n",
    "                internal_cnt += 1\n",
    "            elif 'junction' in tail:\n",
    "                external_cnt += 1\n",
    "    return internal_cnt, external_cnt"
   ]
  },
  {
   "cell_type": "code",
   "execution_count": 16,
   "metadata": {},
   "outputs": [],
   "source": [
    "exon_map = {}\n",
    "\n",
    "for subject in data_map.keys():\n",
    "    exon_map[subject] = count_exon(f'out/{subject}/{subject}_coverage_check_filter.txt')"
   ]
  },
  {
   "cell_type": "code",
   "execution_count": 18,
   "metadata": {},
   "outputs": [
    {
     "data": {
      "image/png": "[encoded data removed]",
      "text/plain": [
       "<Figure size 864x288 with 1 Axes>"
      ]
     },
     "metadata": {
      "needs_background": "light"
     },
     "output_type": "display_data"
    }
   ],
   "source": [
    "single_cnts1 = [exon_map[k][0] for k in new_keys]\n",
    "del_cnts1 = np.array([exon_map[k][1] for k in new_keys])\n",
    "\n",
    "plt.figure(figsize(12,4))\n",
    "plt.title('PGx Low-Coverage Region Exon count')\n",
    "plt.bar(draft_keys, single_cnts1, label='Internal')\n",
    "plt.bar(draft_keys, del_cnts1, bottom=single_cnts1, label='Neighbor')\n",
    "plt.vlines(40.5,0,35,'r',linestyles='dashed')\n",
    "plt.vlines(45.5,0,35,'r',linestyles='dashed')\n",
    "plt.xticks(rotation=90)\n",
    "plt.ylabel('Exon counts')\n",
    "plt.legend()\n",
    "plt.grid()\n",
    "plt.savefig('PGx_exon_cnt.png', dpi=300, bbox_inches='tight')\n",
    "plt.show()"
   ]
  },
  {
   "cell_type": "code",
   "execution_count": null,
   "metadata": {},
   "outputs": [],
   "source": []
  }
 ],
 "metadata": {
  "interpreter": {
   "hash": "5fa794529661fb6b1839689386ccb865f3fbbc74f6c210cb035daec3266aff63"
  },
  "kernelspec": {
   "display_name": "Python 3 (ipykernel)",
   "language": "python",
   "name": "python3"
  },
  "language_info": {
   "codemirror_mode": {
    "name": "ipython",
    "version": 3
   },
   "file_extension": ".py",
   "mimetype": "text/x-python",
   "name": "python",
   "nbconvert_exporter": "python",
   "pygments_lexer": "ipython3",
   "version": "3.7.3"
  }
 },
 "nbformat": 4,
 "nbformat_minor": 2
}
